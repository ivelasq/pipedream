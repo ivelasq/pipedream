{
 "cells": [
  {
   "cell_type": "raw",
   "id": "09547851-c326-45e3-8436-7ee2b559ce4e",
   "metadata": {},
   "source": [
    "---\n",
    "title: \"Three packages that port the tidyverse to Python\"\n",
    "jupyter: python3\n",
    "date: \"2022-05-09\"\n",
    "categories: [\"reference\"]\n",
    "description: Working in Python but miss tidyverse syntax? Turns out, these packages can help.\n",
    "image: thumbnail.jpg\n",
    "title-block-banner: banner.jpg\n",
    "image-alt: \"Johannes Vermeer, The Allegory of Painting, a woman holding an instrument at a window and a man turned away from us painting her\"\n",
    "---"
   ]
  },
  {
   "cell_type": "markdown",
   "id": "e863b5c2-7869-47a7-a32a-d4b9349a6238",
   "metadata": {
    "tags": []
   },
   "source": [
    "As I've been saying every year for the past seven years or so, I am learning Python. (It's been a journey.)\n",
    "\n",
    "Python packages like pandas have several ways to work with data. There are several options for indexing, slicing, etc. They have a lot of flexibility but it's difficult to remember the different conventions.\n",
    "\n",
    "I am familiar with the grammar of the [tidyverse](https://www.tidyverse.org/), which provides a consistent set of verbs to solve common data manipulation challenges. If you're like me, you may want to port the tidyverse to use in your Python work (and hopefully make Python a little easier to grasp).\n",
    "\n",
    "Here are three packages that can do just that.\n",
    "\n",
    "## siuba\n",
    "\n",
    "The [siuba](https://github.com/machow/siuba) package, created by [Michael Chow](https://twitter.com/chowthedog), is a Python library for using dplyr-like syntax with pandas. Siuba ports over several functions, including `select()`, `filter()`, `mutate()`, `summarize()`, and `arrange()`. The package also allows you to use `group_by()` and a `>>` pipe.\n",
    "\n",
    "Let's check out a few examples using the palmerpenguins dataset ([R](https://allisonhorst.github.io/palmerpenguins/), [Python](https://github.com/mcnakhaee/palmerpenguins))."
   ]
  },
  {
   "cell_type": "raw",
   "id": "5e3b5aea-2922-4db8-ae92-961a49f0420a",
   "metadata": {},
   "source": [
    "::: {.panel-tabset}\n",
    "## Python\n",
    "``` python\n",
    "from palmerpenguins import load_penguins\n",
    "penguins = load_penguins()\n",
    "from siuba import group_by, summarize, _\n",
    "\n",
    "(penguins\n",
    "  >> group_by(_.species)\n",
    "  >> summarize(n = _.species.count())\n",
    ")\n",
    "```\n",
    "  \n",
    "## R\n",
    "``` r\n",
    "library(palmerpenguins)\n",
    "library(dplyr)\n",
    "\n",
    "(penguins %>% \n",
    "    group_by(species) %>%\n",
    "    summarize(n = n()))\n",
    "```\n",
    ":::"
   ]
  },
  {
   "cell_type": "markdown",
   "id": "783c3bd3-0a6a-4f93-815c-05083b6b1664",
   "metadata": {},
   "source": [
    "Thanks to the amazing [interactive tutorials](https://learn.siuba.org/intro-data-science/01) available for siuba, it's easy to see the parallels with dplyr and learn how to craft these functions yourself. "
   ]
  },
  {
   "cell_type": "raw",
   "id": "bba34706-10a3-4311-95a1-100ad585eaf2",
   "metadata": {},
   "source": [
    "::: {.panel-tabset}\n",
    "## Python\n",
    "``` python\n",
    "from siuba import select\n",
    "\n",
    "(penguins\n",
    "  >> select(-_.isalpha(), _.species)\n",
    "  >> group_by(_.species)\n",
    "  >> summarize(\n",
    "      bill_length_mm = _.bill_length_mm.mean(),\n",
    "      bill_depth_mm = _.bill_depth_mm.mean(),\n",
    "      flipper_length_mm = _.flipper_length_mm.mean(),\n",
    "      body_mass_g = _.body_mass_g.mean()\n",
    "  )\n",
    ")\n",
    "```\n",
    "\n",
    "## R\n",
    "``` r\n",
    "(penguins %>%\n",
    "  group_by(species) %>%\n",
    "  summarize(across(!where(is.character), mean, na.rm = TRUE)))\n",
    "```\n",
    ":::"
   ]
  },
  {
   "cell_type": "markdown",
   "id": "a8c23ec6-ab79-47e1-9582-e8ea27bf5d1d",
   "metadata": {},
   "source": [
    "## plotnine\n",
    "\n",
    "The [plotnine](https://github.com/has2k1/plotnine) package, created by [Hassan Kibirige](https://twitter.com/HKibirige), provides Python users a grammar of graphics similar to ggplot2.\n",
    "\n"
   ]
  }
 ],
 "metadata": {
  "kernelspec": {
   "display_name": "Python 3",
   "language": "python",
   "name": "python3"
  },
  "language_info": {
   "codemirror_mode": {
    "name": "ipython",
    "version": 3
   },
   "file_extension": ".py",
   "mimetype": "text/x-python",
   "name": "python",
   "nbconvert_exporter": "python",
   "pygments_lexer": "ipython3",
   "version": "3.7.5"
  }
 },
 "nbformat": 4,
 "nbformat_minor": 5
}
